{
 "cells": [
  {
   "cell_type": "markdown",
   "id": "796309e0",
   "metadata": {},
   "source": [
    "# Basics"
   ]
  },
  {
   "cell_type": "markdown",
   "id": "b72150d2",
   "metadata": {},
   "source": [
    "Esc & H for All shortcuts"
   ]
  },
  {
   "cell_type": "code",
   "execution_count": 1,
   "id": "c40bb52c",
   "metadata": {},
   "outputs": [
    {
     "name": "stdout",
     "output_type": "stream",
     "text": [
      "Jay Shri Ram!\n"
     ]
    }
   ],
   "source": [
    "print(\"Jay Shri Ram!\")"
   ]
  },
  {
   "cell_type": "code",
   "execution_count": 3,
   "id": "b1c7e0ed",
   "metadata": {},
   "outputs": [
    {
     "name": "stdout",
     "output_type": "stream",
     "text": [
      "Enter your name : \n",
      "Akshay\n",
      "Hello  Akshay\n"
     ]
    }
   ],
   "source": [
    "print(\"Enter your name : \")\n",
    "name = input()\n",
    "print(\"Hello \",name)"
   ]
  },
  {
   "cell_type": "markdown",
   "id": "32bc1794",
   "metadata": {},
   "source": [
    "# Loops"
   ]
  },
  {
   "cell_type": "code",
   "execution_count": null,
   "id": "7bf95d4b",
   "metadata": {},
   "outputs": [],
   "source": [
    "int "
   ]
  },
  {
   "cell_type": "markdown",
   "id": "07801dc2",
   "metadata": {},
   "source": [
    "# Classes & Objects "
   ]
  },
  {
   "cell_type": "code",
   "execution_count": 20,
   "id": "b7f0e7ef",
   "metadata": {},
   "outputs": [],
   "source": [
    "class Akshay:\n",
    "    def __init__(self, name, age):\n",
    "        self.name = name\n",
    "        self.age = age\n",
    "    \n",
    "    def show(self):\n",
    "        print(\"Hello\",self.name)\n",
    "        print(\"Your Age is\",self.age)"
   ]
  },
  {
   "cell_type": "code",
   "execution_count": 21,
   "id": "8853bc28",
   "metadata": {},
   "outputs": [],
   "source": [
    "ak = Akshay(\"Akshay\",21)"
   ]
  },
  {
   "cell_type": "code",
   "execution_count": 22,
   "id": "89aa3468",
   "metadata": {},
   "outputs": [
    {
     "name": "stdout",
     "output_type": "stream",
     "text": [
      "Hello Akshay\n",
      "Your Age is 21\n"
     ]
    }
   ],
   "source": [
    "ak.show()"
   ]
  },
  {
   "cell_type": "code",
   "execution_count": null,
   "id": "52a69de8",
   "metadata": {},
   "outputs": [],
   "source": []
  }
 ],
 "metadata": {
  "kernelspec": {
   "display_name": "Python 3 (ipykernel)",
   "language": "python",
   "name": "python3"
  },
  "language_info": {
   "codemirror_mode": {
    "name": "ipython",
    "version": 3
   },
   "file_extension": ".py",
   "mimetype": "text/x-python",
   "name": "python",
   "nbconvert_exporter": "python",
   "pygments_lexer": "ipython3",
   "version": "3.11.4"
  }
 },
 "nbformat": 4,
 "nbformat_minor": 5
}
